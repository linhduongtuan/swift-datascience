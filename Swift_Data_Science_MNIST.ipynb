{
  "nbformat": 4,
  "nbformat_minor": 0,
  "metadata": {
    "colab": {
      "name": "Swift_Data_Science_MNIST.ipynb",
      "provenance": [],
      "collapsed_sections": []
    },
    "kernelspec": {
      "name": "swift",
      "display_name": "Swift"
    },
    "accelerator": "GPU"
  },
  "cells": [
    {
      "cell_type": "markdown",
      "metadata": {
        "id": "bjCG6hdKrBSW",
        "colab_type": "text"
      },
      "source": [
        "## Setting up"
      ]
    },
    {
      "cell_type": "code",
      "metadata": {
        "id": "Rd_rIJ5n_PYY",
        "colab_type": "code",
        "outputId": "75533060-d865-46a5-93bf-9f15321a27f3",
        "colab": {
          "base_uri": "https://localhost:8080/",
          "height": 51
        }
      },
      "source": [
        "%include \"EnableIPythonDisplay.swift\"\n",
        "IPythonDisplay.shell.enable_matplotlib(\"inline\")\n",
        "\n",
        "import Python\n",
        "\n",
        "let os = Python.import(\"os\")\n",
        "let plt = Python.import(\"matplotlib.pyplot\")\n",
        "\n",
        "os.system(\"git clone https://github.com/mohdsanadzakirizvi/swift-datascience.git\")\n",
        "os.chdir(\"/content/swift-datascience\")"
      ],
      "execution_count": 0,
      "outputs": [
        {
          "output_type": "stream",
          "text": [
            "fatal: destination path 'swift-datascience' already exists and is not an empty directory.\r\n"
          ],
          "name": "stdout"
        },
        {
          "output_type": "execute_result",
          "data": {
            "text/plain": [
              "None\n"
            ]
          },
          "metadata": {
            "tags": []
          },
          "execution_count": 1
        }
      ]
    },
    {
      "cell_type": "markdown",
      "metadata": {
        "id": "1iRd-VGs3i0f",
        "colab_type": "text"
      },
      "source": [
        "## Exploring the data"
      ]
    },
    {
      "cell_type": "code",
      "metadata": {
        "id": "_WsCTr57D75a",
        "colab_type": "code",
        "outputId": "f1fe3936-784e-476e-bbe5-ca9d5573a46f",
        "colab": {
          "base_uri": "https://localhost:8080/",
          "height": 85
        }
      },
      "source": [
        "%include \"/content/swift-datascience/MNIST.swift\"\n",
        "\n",
        "// Load dataset\n",
        "let dataset = MNIST(batchSize: 128)"
      ],
      "execution_count": 0,
      "outputs": [
        {
          "output_type": "stream",
          "text": [
            "Reading data from files: train-images-idx3-ubyte, train-labels-idx1-ubyte.\n",
            "Constructing data tensors.\n",
            "Reading data from files: t10k-images-idx3-ubyte, t10k-labels-idx1-ubyte.\n",
            "Constructing data tensors.\n"
          ],
          "name": "stdout"
        }
      ]
    },
    {
      "cell_type": "code",
      "metadata": {
        "id": "qFA6TMWQFrkG",
        "colab_type": "code",
        "outputId": "6caf57c5-d5d1-455c-908a-a29c13a0f3c4",
        "colab": {
          "base_uri": "https://localhost:8080/",
          "height": 34
        }
      },
      "source": [
        "// Get first 5 images\n",
        "let imgs = dataset.trainingImages.minibatch(at: 0, batchSize: 5).makeNumpyArray()\n",
        "print(imgs.shape)"
      ],
      "execution_count": 0,
      "outputs": [
        {
          "output_type": "stream",
          "text": [
            "(5, 28, 28, 1)\r\n"
          ],
          "name": "stdout"
        }
      ]
    },
    {
      "cell_type": "code",
      "metadata": {
        "id": "RW2lBP65Kl3x",
        "colab_type": "code",
        "outputId": "b4b1ffa2-26db-4993-ce5a-155fcdd65855",
        "colab": {
          "base_uri": "https://localhost:8080/",
          "height": 1000
        }
      },
      "source": [
        "# Display first 5 images\n",
        "for img in imgs{\n",
        "  plt.imshow(img.reshape(28,28))\n",
        "  plt.show()\n",
        "}"
      ],
      "execution_count": 0,
      "outputs": [
        {
          "output_type": "display_data",
          "data": {
            "image/png": "[encoded data removed]",
            "text/plain": [
              "<Figure size 432x288 with 1 Axes>"
            ]
          },
          "metadata": {
            "tags": []
          }
        },
        {
          "output_type": "display_data",
          "data": {
            "image/png": "[encoded data removed]",
            "text/plain": [
              "<Figure size 432x288 with 1 Axes>"
            ]
          },
          "metadata": {
            "tags": []
          }
        },
        {
          "output_type": "display_data",
          "data": {
            "image/png": "[encoded data removed]",
            "text/plain": [
              "<Figure size 432x288 with 1 Axes>"
            ]
          },
          "metadata": {
            "tags": []
          }
        },
        {
          "output_type": "display_data",
          "data": {
            "image/png": "[encoded data removed]",
            "text/plain": [
              "<Figure size 432x288 with 1 Axes>"
            ]
          },
          "metadata": {
            "tags": []
          }
        },
        {
          "output_type": "display_data",
          "data": {
            "image/png": "[encoded data removed]",
            "text/plain": [
              "<Figure size 432x288 with 1 Axes>"
            ]
          },
          "metadata": {
            "tags": []
          }
        }
      ]
    },
    {
      "cell_type": "markdown",
      "metadata": {
        "id": "ZaAU-h667bq1",
        "colab_type": "text"
      },
      "source": [
        "## Model building"
      ]
    },
    {
      "cell_type": "code",
      "metadata": {
        "id": "ORt-nCBlC7uN",
        "colab_type": "code",
        "outputId": "54c2c567-e30e-4cc8-b3e3-78f6a39c9b14",
        "colab": {
          "base_uri": "https://localhost:8080/",
          "height": 438
        }
      },
      "source": [
        "import TensorFlow\n",
        "\n",
        "let epochCount = 100\n",
        "let batchSize = 128\n",
        "\n",
        "// The LeNet-5 model\n",
        "var classifier = Sequential {\n",
        "    Conv2D<Float>(filterShape: (5, 5, 1, 6), padding: .same, activation: relu)\n",
        "    AvgPool2D<Float>(poolSize: (2, 2), strides: (2, 2))\n",
        "    Conv2D<Float>(filterShape: (5, 5, 6, 16), activation: relu)\n",
        "    AvgPool2D<Float>(poolSize: (2, 2), strides: (2, 2))\n",
        "    Flatten<Float>()\n",
        "    Dense<Float>(inputSize: 400, outputSize: 120, activation: relu)\n",
        "    Dense<Float>(inputSize: 120, outputSize: 84, activation: relu)\n",
        "    Dense<Float>(inputSize: 84, outputSize: 10, activation: softmax)\n",
        "}\n",
        "\n",
        "// Using Gradient Descent as the optimizer\n",
        "let optimizer = SGD(for: classifier, learningRate: 0.1)\n",
        "\n",
        "print(\"Beginning training...\")\n",
        "\n",
        "struct Statistics {\n",
        "    var correctGuessCount: Int = 0\n",
        "    var totalGuessCount: Int = 0\n",
        "    var totalLoss: Float = 0\n",
        "}\n",
        "\n",
        "// Store accuracy results during training\n",
        "var trainAccuracyResults: [Float] = []\n",
        "var testAccuracyResults: [Float] = []\n",
        "\n",
        "// The training loop.\n",
        "for epoch in 1...epochCount {\n",
        "    var trainStats = Statistics()\n",
        "    var testStats = Statistics()\n",
        "\n",
        "    // Set context to training \n",
        "    Context.local.learningPhase = .training\n",
        "\n",
        "    for i in 0 ..< dataset.trainingSize / batchSize {\n",
        "        // Get mini-batches of x and y\n",
        "        let x = dataset.trainingImages.minibatch(at: i, batchSize: batchSize)\n",
        "        let y = dataset.trainingLabels.minibatch(at: i, batchSize: batchSize)\n",
        "        \n",
        "        // Compute the gradient with respect to the model.\n",
        "        let 𝛁model = classifier.gradient { classifier -> Tensor<Float> in\n",
        "            let ŷ = classifier(x)\n",
        "            let correctPredictions = ŷ.argmax(squeezingAxis: 1) .== y\n",
        "            \n",
        "            trainStats.correctGuessCount += Int(Tensor<Int32>(correctPredictions).sum().scalarized())\n",
        "            trainStats.totalGuessCount += batchSize\n",
        "            \n",
        "            let loss = softmaxCrossEntropy(logits: ŷ, labels: y)\n",
        "            trainStats.totalLoss += loss.scalarized()\n",
        "            \n",
        "            return loss\n",
        "        }\n",
        "        \n",
        "        // Update the model's differentiable variables along the gradient vector.\n",
        "        optimizer.update(&classifier, along: 𝛁model)\n",
        "    }\n",
        "\n",
        "    // Set context to inference\n",
        "    Context.local.learningPhase = .inference\n",
        "\n",
        "    for i in 0 ..< dataset.testSize / batchSize {\n",
        "        let x = dataset.testImages.minibatch(at: i, batchSize: batchSize)\n",
        "        let y = dataset.testLabels.minibatch(at: i, batchSize: batchSize)\n",
        "\n",
        "        // Compute loss on test set\n",
        "        let ŷ = classifier(x)\n",
        "        let correctPredictions = ŷ.argmax(squeezingAxis: 1) .== y\n",
        "\n",
        "        testStats.correctGuessCount += Int(Tensor<Int32>(correctPredictions).sum().scalarized())\n",
        "        testStats.totalGuessCount += batchSize\n",
        "\n",
        "        let loss = softmaxCrossEntropy(logits: ŷ, labels: y)\n",
        "\n",
        "        testStats.totalLoss += loss.scalarized()\n",
        "    }\n",
        "\n",
        "    let trainAccuracy = Float(trainStats.correctGuessCount) / Float(trainStats.totalGuessCount)\n",
        "    let testAccuracy = Float(testStats.correctGuessCount) / Float(testStats.totalGuessCount)\n",
        "\n",
        "    // Save train and test accuracy\n",
        "    trainAccuracyResults.append(trainAccuracy)\n",
        "    testAccuracyResults.append(testAccuracy)\n",
        "\n",
        "    print(\"\"\"\n",
        "          [Epoch \\(epoch)] \\\n",
        "          Training Loss: \\(trainStats.totalLoss), \\\n",
        "          Training Accuracy: \\(trainStats.correctGuessCount)/\\(trainStats.totalGuessCount) \\\n",
        "          (\\(trainAccuracy)), \\\n",
        "          Test Loss: \\(testStats.totalLoss), \\\n",
        "          Test Accuracy: \\(testStats.correctGuessCount)/\\(testStats.totalGuessCount) \\\n",
        "          (\\(testAccuracy))\n",
        "          \"\"\")\n",
        "}"
      ],
      "execution_count": 0,
      "outputs": [
        {
          "output_type": "stream",
          "text": [
            "Beginning training...\n",
            "[Epoch 1] Training Loss: 937.2287, Training Accuracy: 30780/59904 (0.51382214), Test Loss: 134.01508, Test Accuracy: 7443/9984 (0.7454928)\n",
            "[Epoch 2] Training Loss: 792.0119, Training Accuracy: 46260/59904 (0.7722356), Test Loss: 127.48257, Test Accuracy: 8293/9984 (0.830629)\n",
            "[Epoch 3] Training Loss: 751.41736, Training Accuracy: 51492/59904 (0.85957533), Test Loss: 120.10599, Test Accuracy: 9242/9984 (0.9256811)\n",
            "[Epoch 4] Training Loss: 718.39417, Training Accuracy: 55756/59904 (0.93075585), Test Loss: 118.72299, Test Accuracy: 9400/9984 (0.9415064)\n",
            "[Epoch 5] Training Loss: 710.48395, Training Accuracy: 56686/59904 (0.9462807), Test Loss: 117.73791, Test Accuracy: 9533/9984 (0.9548277)\n",
            "[Epoch 6] Training Loss: 705.7955, Training Accuracy: 57265/59904 (0.9559462), Test Loss: 117.18693, Test Accuracy: 9597/9984 (0.96123797)\n",
            "[Epoch 7] Training Loss: 702.90265, Training Accuracy: 57590/59904 (0.96137154), Test Loss: 116.9009, Test Accuracy: 9626/9984 (0.9641426)\n",
            "[Epoch 8] Training Loss: 700.608, Training Accuracy: 57889/59904 (0.96636283), Test Loss: 116.63512, Test Accuracy: 9660/9984 (0.9675481)\n",
            "[Epoch 9] Training Loss: 699.0628, Training Accuracy: 58057/59904 (0.96916735), Test Loss: 116.401665, Test Accuracy: 9689/9984 (0.9704527)\n",
            "[Epoch 10] Training Loss: 697.82294, Training Accuracy: 58231/59904 (0.972072), Test Loss: 116.3269, Test Accuracy: 9690/9984 (0.97055286)\n",
            "[Epoch 11] Training Loss: 697.02875, Training Accuracy: 58304/59904 (0.9732906), Test Loss: 116.438934, Test Accuracy: 9677/9984 (0.9692508)\n",
            "[Epoch 12] Training Loss: 696.13525, Training Accuracy: 58415/59904 (0.97514355), Test Loss: 116.22135, Test Accuracy: 9702/9984 (0.9717548)\n",
            "[Epoch 13] Training Loss: 695.23596, Training Accuracy: 58536/59904 (0.97716343), Test Loss: 116.104515, Test Accuracy: 9723/9984 (0.9738582)\n",
            "[Epoch 14] Training Loss: 694.5186, Training Accuracy: 58625/59904 (0.9786492), Test Loss: 115.94813, Test Accuracy: 9742/9984 (0.97576123)\n",
            "[Epoch 15] Training Loss: 694.1533, Training Accuracy: 58674/59904 (0.97946715), Test Loss: 115.75152, Test Accuracy: 9768/9984 (0.97836536)\n",
            "[Epoch 16] Training Loss: 693.52466, Training Accuracy: 58740/59904 (0.9805689), Test Loss: 116.16403, Test Accuracy: 9710/9984 (0.9725561)\n",
            "[Epoch 17] Training Loss: 693.20154, Training Accuracy: 58770/59904 (0.9810697), Test Loss: 115.95362, Test Accuracy: 9730/9984 (0.9745593)\n"
          ],
          "name": "stdout"
        },
        {
          "output_type": "error",
          "ename": "",
          "evalue": "ignored",
          "traceback": [
            "Current stack trace:",
            "\tframe #30: 0x00007f64bc12c16e $__lldb_expr46`AD__$s14__lldb_expr_4510TensorFlow0C0VySfGAB10SequentialVyAB6Conv2DVySfGAGyAB9AvgPool2DVySfGAGyAjGyAmGyAB7FlattenVySfGAGyAB5DenseVySfGAGyA2SGGGGGGGcfU0___pullback_src_0_wrt_0 at <Cell 5>:48:22",
            "\tframe #39: 0x00007f64bc1273e7 $__lldb_expr46`main at <Cell 5>:47"
          ]
        }
      ]
    },
    {
      "cell_type": "markdown",
      "metadata": {
        "id": "0bC-YgCtd24B",
        "colab_type": "text"
      },
      "source": [
        "## Visualizing model training"
      ]
    },
    {
      "cell_type": "code",
      "metadata": {
        "id": "T98qDvEBMmwr",
        "colab_type": "code",
        "outputId": "65022364-3278-4fa4-f1db-73b46f0d3d4b",
        "colab": {
          "base_uri": "https://localhost:8080/",
          "height": 517
        }
      },
      "source": [
        "plt.figure(figsize: [12, 8])\n",
        "\n",
        "let accuracyAxes = plt.subplot(2, 1, 1)\n",
        "accuracyAxes.set_ylabel(\"Train Accuracy\")\n",
        "accuracyAxes.plot(trainAccuracyResults, color: \"blue\")\n",
        "\n",
        "let lossAxes = plt.subplot(2, 1, 2)\n",
        "lossAxes.set_ylabel(\"Test Accuracy\")\n",
        "lossAxes.set_xlabel(\"Epoch\")\n",
        "lossAxes.plot(testAccuracyResults, color: \"yellow\")\n",
        "\n",
        "plt.show()"
      ],
      "execution_count": 0,
      "outputs": [
        {
          "output_type": "display_data",
          "data": {
            "image/png": "[encoded data removed]",
            "text/plain": [
              "<Figure size 864x576 with 2 Axes>"
            ]
          },
          "metadata": {
            "tags": []
          }
        },
        {
          "output_type": "execute_result",
          "data": {
            "text/plain": [
              "None\n"
            ]
          },
          "metadata": {
            "tags": []
          },
          "execution_count": 6
        }
      ]
    },
    {
      "cell_type": "code",
      "metadata": {
        "id": "c3TCYRSoub93",
        "colab_type": "code",
        "colab": {}
      },
      "source": [
        ""
      ],
      "execution_count": 0,
      "outputs": []
    }
  ]
}